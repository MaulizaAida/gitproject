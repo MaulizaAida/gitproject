{
 "cells": [
  {
   "cell_type": "code",
   "execution_count": 1,
   "id": "9823ce35-63f2-4f3d-9497-9201c3904caa",
   "metadata": {},
   "outputs": [],
   "source": [
    "from bs4 import BeautifulSoup\n",
    "import requests\n",
    "import pandas as pd"
   ]
  },
  {
   "cell_type": "code",
   "execution_count": 2,
   "id": "4992f7c3-ccd7-4614-9704-9d9f52ea08b8",
   "metadata": {},
   "outputs": [],
   "source": [
    "base = 'https://lovia.life'\n",
    "url = 'https://lovia.life/id/health/bpjs'\n",
    "r = requests.get(url)\n",
    "soup = BeautifulSoup(r.content, 'html.parser')"
   ]
  },
  {
   "cell_type": "code",
   "execution_count": 3,
   "id": "6cfbf1b2-bd8c-44ab-a798-dcb06e5efc3b",
   "metadata": {},
   "outputs": [],
   "source": [
    "prvs = soup.find_all('h2')\n",
    "v_data_m = []\n",
    "NoProv = 1\n",
    "for prv in prvs :\n",
    "#     print(prv.get_text())\n",
    "    v_prv = prv.get_text()\n",
    "    lnks = prv.next_sibling.next_sibling.find_all('li')\n",
    "    for lnk in lnks :\n",
    "        v_lnk = lnk.find('a').get('href')\n",
    "        v_name = lnk.get_text()\n",
    "        v_data_m.append((NoProv, v_prv, v_name,base+v_lnk))\n",
    "    NoProv = NoProv + 1\n"
   ]
  },
  {
   "cell_type": "code",
   "execution_count": 4,
   "id": "8a793e37-0a78-4c97-83fe-1f564c56c772",
   "metadata": {},
   "outputs": [],
   "source": [
    "df_m = pd.DataFrame(v_data_m, columns = ['NoProv', 'Provinsi', 'KotaKab','Link'])"
   ]
  },
  {
   "cell_type": "code",
   "execution_count": 5,
   "id": "0dc2f143-e87a-4688-93a7-a49385bb6520",
   "metadata": {},
   "outputs": [
    {
     "data": {
      "text/plain": [
       "RangeIndex(start=0, stop=0, step=1)"
      ]
     },
     "execution_count": 5,
     "metadata": {},
     "output_type": "execute_result"
    }
   ],
   "source": [
    "df_m.index\n"
   ]
  },
  {
   "cell_type": "code",
   "execution_count": 6,
   "id": "36ff28f5-dc91-4ede-ab19-dcce6c388ead",
   "metadata": {},
   "outputs": [],
   "source": [
    "data = []\n",
    "for i in df_m.index:\n",
    "# for i in range(0, 25):\n",
    "    v_prv = df_m['Provinsi'][i]\n",
    "    v_kota = df_m['KotaKab'][i]\n",
    "    v_links = df_m['Link'][i]\n",
    "    url = v_links\n",
    "    r = requests.get(url)\n",
    "    soup = BeautifulSoup(r.content, 'html.parser')\n",
    "    tipes = soup.find_all('h2')\n",
    "    print(i, 'of', len(df_m)-1, v_prv, v_links)\n",
    "    for tipe in tipes :\n",
    "        TipeFaskes = tipe.get_text()\n",
    "        try :\n",
    "            details = tipe.next_sibling.next_sibling.find('tbody').find_all('tr')\n",
    "            for detail in details :\n",
    "                no = detail.find_all('td')[0].get_text()\n",
    "                KodeFaskes = detail.find_all('td')[1].get_text()\n",
    "                NamaFaskes = detail.find_all('td')[2].get_text()\n",
    "                try :\n",
    "                    LatLongFaskes = detail.find_all('td')[2].find('a').get('href')\n",
    "                except:\n",
    "                    LatLongFaskes = '-'\n",
    "                AlamatFaskes = detail.find_all('td')[3].get_text()\n",
    "                TelpFaskes = detail.find_all('td')[4].get_text()\n",
    "                data.append((i,v_prv,v_kota,v_links,TipeFaskes,no,KodeFaskes,NamaFaskes,LatLongFaskes,AlamatFaskes,TelpFaskes))\n",
    "        except:\n",
    "            no = '-'\n",
    "            KodeFaskes = '-'\n",
    "            NamaFaskes = '-'\n",
    "            LatLongFaskes = '-'\n",
    "            AlamatFaskes = '-'\n",
    "            TelpFaskes = '-'\n",
    "            data.append((i,v_prv,v_kota,v_links,TipeFaskes,no,KodeFaskes,NamaFaskes,LatLongFaskes,AlamatFaskes,TelpFaskes))"
   ]
  },
  {
   "cell_type": "code",
   "execution_count": 7,
   "id": "373ff873-310a-4bf3-bfb8-593907347104",
   "metadata": {},
   "outputs": [],
   "source": [
    "df5 = pd.DataFrame(data, columns = ['NoLink','Provinsi', 'KotaKab','Link','TipeFaskes','No','KodeFaskes','NamaFaskes','LatLongFaskes','AlamatFaskes','TelpFaskes'])\n"
   ]
  },
  {
   "cell_type": "code",
   "execution_count": 8,
   "id": "2895fd0a-533e-4411-a9e3-78c4ce1bc5bf",
   "metadata": {},
   "outputs": [],
   "source": [
    "df5.to_csv( \"Data Faskes BPJS.csv\", index=False, quoting=0 )"
   ]
  }
 ],
 "metadata": {
  "kernelspec": {
   "display_name": "Python 3 (ipykernel)",
   "language": "python",
   "name": "python3"
  },
  "language_info": {
   "codemirror_mode": {
    "name": "ipython",
    "version": 3
   },
   "file_extension": ".py",
   "mimetype": "text/x-python",
   "name": "python",
   "nbconvert_exporter": "python",
   "pygments_lexer": "ipython3",
   "version": "3.11.7"
  }
 },
 "nbformat": 4,
 "nbformat_minor": 5
}
